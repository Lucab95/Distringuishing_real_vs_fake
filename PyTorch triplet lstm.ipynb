{
 "cells": [
  {
   "cell_type": "code",
   "execution_count": 1,
   "metadata": {},
   "outputs": [
    {
     "ename": "ModuleNotFoundError",
     "evalue": "No module named 'utils'",
     "output_type": "error",
     "traceback": [
      "\u001b[1;31m---------------------------------------------------------------------------\u001b[0m",
      "\u001b[1;31mModuleNotFoundError\u001b[0m                       Traceback (most recent call last)",
      "\u001b[1;32m~\\AppData\\Local\\Temp\\ipykernel_21588\\2576773949.py\u001b[0m in \u001b[0;36m<module>\u001b[1;34m\u001b[0m\n\u001b[0;32m     17\u001b[0m \u001b[1;33m\u001b[0m\u001b[0m\n\u001b[0;32m     18\u001b[0m \u001b[1;32mimport\u001b[0m \u001b[0mmatplotlib\u001b[0m\u001b[1;33m.\u001b[0m\u001b[0mpyplot\u001b[0m \u001b[1;32mas\u001b[0m \u001b[0mplt\u001b[0m\u001b[1;33m\u001b[0m\u001b[1;33m\u001b[0m\u001b[0m\n\u001b[1;32m---> 19\u001b[1;33m \u001b[1;32mfrom\u001b[0m \u001b[0mutils\u001b[0m\u001b[1;33m.\u001b[0m\u001b[0mSaseFEdatasetFullclas\u001b[0m \u001b[1;32mimport\u001b[0m \u001b[0mVideoSaseFEdatasetSingle\u001b[0m\u001b[1;33m\u001b[0m\u001b[1;33m\u001b[0m\u001b[0m\n\u001b[0m\u001b[0;32m     20\u001b[0m \u001b[1;32mfrom\u001b[0m \u001b[0mutils\u001b[0m\u001b[1;33m.\u001b[0m\u001b[0mTripletDataset\u001b[0m \u001b[1;32mimport\u001b[0m \u001b[0mTripletNetworkDataset\u001b[0m\u001b[1;33m\u001b[0m\u001b[1;33m\u001b[0m\u001b[0m\n\u001b[0;32m     21\u001b[0m \u001b[1;32mimport\u001b[0m \u001b[0mos\u001b[0m\u001b[1;33m\u001b[0m\u001b[1;33m\u001b[0m\u001b[0m\n",
      "\u001b[1;31mModuleNotFoundError\u001b[0m: No module named 'utils'"
     ]
    }
   ],
   "source": [
    "from argparse import ArgumentParser\n",
    "from sklearn.metrics import accuracy_score, confusion_matrix, classification_report\n",
    "from torch.utils.data import Subset, DataLoader, random_split\n",
    "import numpy as np\n",
    "import sys\n",
    "from xgboost import XGBClassifier\n",
    "# from utils.utils import get_next_version, train_test_split_persons, train_val_test_split_persons\n",
    "# from utils.metrics import balanced_composite_report\n",
    "# from datasets.emotions import emotion_dict, emoint\n",
    "# sys.path.append(r'C:\\Users\\luca9\\Desktop\\Thesis')\n",
    "import sys\n",
    "sys.path.append('..')\n",
    "import torch\n",
    "import torchvision\n",
    "import torchvision.transforms as transforms\n",
    "from torchsummary import summary\n",
    "\n",
    "import matplotlib.pyplot as plt\n",
    "from utils.SaseFEdatasetFullclas import VideoSaseFEdatasetSingle\n",
    "from utils.TripletDataset import TripletNetworkDataset\n",
    "import os\n",
    "from tqdm.auto import tqdm\n",
    "from torch.utils.tensorboard import SummaryWriter\n",
    "input_type= \"video\"\n",
    "\n"
   ]
  },
  {
   "cell_type": "markdown",
   "metadata": {},
   "source": [
    "Define the device if GPU is available or not"
   ]
  },
  {
   "cell_type": "code",
   "execution_count": null,
   "metadata": {},
   "outputs": [
    {
     "data": {
      "text/plain": [
       "'cuda'"
      ]
     },
     "execution_count": 2,
     "metadata": {},
     "output_type": "execute_result"
    }
   ],
   "source": [
    "device = 'cuda' if torch.cuda.is_available() else 'cpu'\n",
    "device"
   ]
  },
  {
   "cell_type": "code",
   "execution_count": null,
   "metadata": {},
   "outputs": [],
   "source": [
    "import torch.nn as nn\n",
    "import torch.nn.functional as F\n",
    "torch.cuda.empty_cache()"
   ]
  },
  {
   "cell_type": "markdown",
   "metadata": {},
   "source": [
    "Initialize and apply transformation to the dataset"
   ]
  },
  {
   "cell_type": "code",
   "execution_count": 4,
   "metadata": {},
   "outputs": [],
   "source": [
    "# np.array(images).shape"
   ]
  },
  {
   "cell_type": "code",
   "execution_count": null,
   "metadata": {},
   "outputs": [],
   "source": []
  },
  {
   "cell_type": "code",
   "execution_count": 5,
   "metadata": {},
   "outputs": [],
   "source": [
    "np.random.seed(42)\n",
    "test_size = 0.2\n",
    "x= np.arange(0, 50, 1, dtype=int)\n",
    "np.random.shuffle(x)\n",
    "test_subj = x[:10]"
   ]
  },
  {
   "cell_type": "code",
   "execution_count": null,
   "metadata": {},
   "outputs": [],
   "source": []
  },
  {
   "cell_type": "code",
   "execution_count": 6,
   "metadata": {},
   "outputs": [
    {
     "name": "stdout",
     "output_type": "stream",
     "text": [
      "Loading dataset...\n"
     ]
    }
   ],
   "source": [
    "def init_dataset(DATA_FOLDER,n_frames,n_classes=12):\n",
    "    # add_transforms = [transforms.Resize(224), transforms.Normalize([0.454, 0.390, 0.331], [0.164, 0.187, 0.152])]\n",
    "    add_transforms = [transforms.Resize(224)]\n",
    "    print(\"Loading dataset...\")\n",
    "    train_dataset= TripletNetworkDataset(DATA_FOLDER, n_emt=n_classes, required_frames=n_frames,transforms=add_transforms, test_subj=test_subj,train=True)\n",
    "    test_dataset = TripletNetworkDataset(DATA_FOLDER, n_emt=n_classes, required_frames=n_frames,transforms=add_transforms, test_subj=test_subj,train=False)\n",
    "    return train_dataset, test_dataset\n",
    "\n",
    "train_dataset, test_dataset = init_dataset(DATA_FOLDER, 1)\n",
    "# images_0,images_1, images_2,_,_= dataset[3]\n",
    "images,anch_lab, neg_lab= train_dataset[3]\n",
    "# n_frames = images[0]"
   ]
  },
  {
   "cell_type": "code",
   "execution_count": 37,
   "metadata": {},
   "outputs": [],
   "source": [
    "int2emo={\n",
    "        0:\"Fake-Angry\",\n",
    "        1:\"Fake-Contempt\",\n",
    "        2:\"Fake-Disgust\",\n",
    "        3:\"Fake-Happy\",\n",
    "        4:\"Fake-Sad\",\n",
    "        5:\"Fake-Surprise\",\n",
    "        6:\"Real-Angry\",\n",
    "        7:\"Real-Contempt\",\n",
    "        8:\"Real-Disgust\",\n",
    "        9:\"Real-Happy\",\n",
    "        10:\"Real-Sad\",\n",
    "        11:\"Real-Surprise\"\n",
    "        \n",
    "}"
   ]
  },
  {
   "cell_type": "code",
   "execution_count": 38,
   "metadata": {},
   "outputs": [],
   "source": [
    "# images,anch_lab, neg_lab= train_dataset[3]\n",
    "# print(int2emo[anch_lab], int2emo[neg_lab])"
   ]
  },
  {
   "cell_type": "code",
   "execution_count": 39,
   "metadata": {},
   "outputs": [],
   "source": [
    "triplet_train_loader = torch.utils.data.DataLoader(train_dataset, batch_size=1, shuffle=False)\n",
    "triplet_test_loader = torch.utils.data.DataLoader(test_dataset, batch_size=1, shuffle=False)"
   ]
  },
  {
   "cell_type": "code",
   "execution_count": 40,
   "metadata": {},
   "outputs": [
    {
     "name": "stdout",
     "output_type": "stream",
     "text": [
      "No. of batches in trainloader : 480\n",
      "No. of batches in validloader : 118\n"
     ]
    }
   ],
   "source": [
    "print(f\"No. of batches in trainloader : {len(triplet_train_loader)}\")\n",
    "print(f\"No. of batches in validloader : {len(triplet_test_loader)}\")"
   ]
  },
  {
   "cell_type": "markdown",
   "metadata": {},
   "source": [
    "Load Networs"
   ]
  },
  {
   "cell_type": "code",
   "execution_count": 41,
   "metadata": {},
   "outputs": [],
   "source": [
    "import timm\n",
    "import torch.nn.functional as F\n",
    "class CNN_Model(nn.Module):\n",
    "    def __init__(self, emb_size=512):\n",
    "      super().__init__()\n",
    "      self.conv1_1 = nn.Conv2d(3, 64, kernel_size=3, padding=1)\n",
    "      self.conv1_2 = nn.Conv2d(64, 64, kernel_size=3, padding=1)\n",
    "      self.batchnorm1 = nn.BatchNorm2d(64)\n",
    "      self.conv2_1 = nn.Conv2d(64, 128, kernel_size=3, padding=1)\n",
    "      self.conv2_2 = nn.Conv2d(128, 128, kernel_size=3 ,padding=1)\n",
    "      self.batchnorm2 = nn.BatchNorm2d(128)\n",
    "      self.conv3_1 = nn.Conv2d(128, 256, kernel_size=3, padding=1)\n",
    "      self.conv3_2 = nn.Conv2d(256, 256, kernel_size=3, padding=1)\n",
    "      self.conv3_3 = nn.Conv2d(256, 256, kernel_size=3, padding=1)\n",
    "      self.batchnorm3 = nn.BatchNorm2d(256)\n",
    "      self.conv4_1 = nn.Conv2d(256, 512, kernel_size=3, stride=1, padding=1)\n",
    "      self.conv4_2 = nn.Conv2d(512, 512, kernel_size=3, stride=1, padding=1)\n",
    "      self.conv4_3 = nn.Conv2d(512, 512, kernel_size=3, stride=1, padding=1)\n",
    "      self.batchnorm4 = nn.BatchNorm2d(512)\n",
    "      self.conv5_1 = nn.Conv2d(512, 512, kernel_size=3, stride=1, padding=1)\n",
    "      self.conv5_2 = nn.Conv2d(512, 512, kernel_size=3, stride=1, padding=1)\n",
    "      self.conv5_3 = nn.Conv2d(512, 512, kernel_size=3, stride=1, padding=1)\n",
    "      self.batchnorm5 = nn.BatchNorm2d(512)\n",
    "\n",
    "      self.maxpool = nn.MaxPool2d(kernel_size=2, stride=2)\n",
    "      \n",
    "      self.fc1 = nn.Linear(25088, 4096)\n",
    "\n",
    "\n",
    "    def forward(self, images):\n",
    "      x = F.relu(self.conv1_1(images))\n",
    "      x = F.relu(self.conv1_2(x))\n",
    "      x = self.batchnorm1(x)\n",
    "      x = self.maxpool(x)\n",
    "      x = F.relu(self.conv2_1(x))\n",
    "      x = F.relu(self.conv2_2(x))\n",
    "      x = self.batchnorm2(x)\n",
    "      x = self.maxpool(x)\n",
    "      x = F.relu(self.conv3_1(x))\n",
    "      x = F.relu(self.conv3_2(x))\n",
    "      x = F.relu(self.conv3_3(x))\n",
    "      x = self.batchnorm3(x)\n",
    "      x = self.maxpool(x)\n",
    "      x = F.relu(self.conv4_1(x))\n",
    "      x = F.relu(self.conv4_2(x))\n",
    "      x = F.relu(self.conv4_3(x))\n",
    "      x = self.batchnorm4(x)\n",
    "      x = self.maxpool(x)\n",
    "      x = F.relu(self.conv5_1(x))\n",
    "      x = F.relu(self.conv5_2(x))\n",
    "      x = F.relu(self.conv5_3(x))\n",
    "      x = self.batchnorm5(x)\n",
    "      x = self.maxpool(x)\n",
    "      x = x.view(x.size(0), -1)#flatten\n",
    "      x = F.relu(self.fc1(x))\n",
    "      return x\n",
    "\n",
    "            # x = self.conv1(images)\n",
    "      # x = F.relu(x)\n",
    "      # x = self.conv2(x)\n",
    "      # x = F.relu(x)\n",
    "      # x = self.batchnorm1(x)\n",
    "      # x = F.max_pool2d(x, kernel_size=3, stride=2, padding=1)\n",
    "\n",
    "\n",
    "      return x"
   ]
  },
  {
   "cell_type": "code",
   "execution_count": 42,
   "metadata": {},
   "outputs": [
    {
     "data": {
      "text/plain": [
       "CNN_Model(\n",
       "  (conv1_1): Conv2d(3, 64, kernel_size=(3, 3), stride=(1, 1), padding=(1, 1))\n",
       "  (conv1_2): Conv2d(64, 64, kernel_size=(3, 3), stride=(1, 1), padding=(1, 1))\n",
       "  (batchnorm1): BatchNorm2d(64, eps=1e-05, momentum=0.1, affine=True, track_running_stats=True)\n",
       "  (conv2_1): Conv2d(64, 128, kernel_size=(3, 3), stride=(1, 1), padding=(1, 1))\n",
       "  (conv2_2): Conv2d(128, 128, kernel_size=(3, 3), stride=(1, 1), padding=(1, 1))\n",
       "  (batchnorm2): BatchNorm2d(128, eps=1e-05, momentum=0.1, affine=True, track_running_stats=True)\n",
       "  (conv3_1): Conv2d(128, 256, kernel_size=(3, 3), stride=(1, 1), padding=(1, 1))\n",
       "  (conv3_2): Conv2d(256, 256, kernel_size=(3, 3), stride=(1, 1), padding=(1, 1))\n",
       "  (conv3_3): Conv2d(256, 256, kernel_size=(3, 3), stride=(1, 1), padding=(1, 1))\n",
       "  (batchnorm3): BatchNorm2d(256, eps=1e-05, momentum=0.1, affine=True, track_running_stats=True)\n",
       "  (conv4_1): Conv2d(256, 512, kernel_size=(3, 3), stride=(1, 1), padding=(1, 1))\n",
       "  (conv4_2): Conv2d(512, 512, kernel_size=(3, 3), stride=(1, 1), padding=(1, 1))\n",
       "  (conv4_3): Conv2d(512, 512, kernel_size=(3, 3), stride=(1, 1), padding=(1, 1))\n",
       "  (batchnorm4): BatchNorm2d(512, eps=1e-05, momentum=0.1, affine=True, track_running_stats=True)\n",
       "  (conv5_1): Conv2d(512, 512, kernel_size=(3, 3), stride=(1, 1), padding=(1, 1))\n",
       "  (conv5_2): Conv2d(512, 512, kernel_size=(3, 3), stride=(1, 1), padding=(1, 1))\n",
       "  (conv5_3): Conv2d(512, 512, kernel_size=(3, 3), stride=(1, 1), padding=(1, 1))\n",
       "  (batchnorm5): BatchNorm2d(512, eps=1e-05, momentum=0.1, affine=True, track_running_stats=True)\n",
       "  (maxpool): MaxPool2d(kernel_size=2, stride=2, padding=0, dilation=1, ceil_mode=False)\n",
       "  (fc1): Linear(in_features=25088, out_features=4096, bias=True)\n",
       ")"
      ]
     },
     "execution_count": 42,
     "metadata": {},
     "output_type": "execute_result"
    }
   ],
   "source": [
    "model = CNN_Model()\n",
    "model.to(device)"
   ]
  },
  {
   "cell_type": "code",
   "execution_count": 43,
   "metadata": {},
   "outputs": [],
   "source": [
    "# import timm\n",
    "# class APN_Model(nn.Module):\n",
    "#     def __init__(self, emb_size=512):\n",
    "#       super(APN_Model, self).__init__()\n",
    "\n",
    "#       self.efficientnet = timm.create_model('vgg16_bn',pretrained=True,num_classes=emb_size)\n",
    "#       # print(self.efficientnet)\n",
    "#       # self.efficientnet.classifier = nn.Linear(in_features = self.efficientnet.classifier.in_features, out_features = emb_size)\n",
    "\n",
    "#     def forward(self, images):\n",
    "#       embeddings = self.efficientnet(images)\n",
    "#       return embeddings"
   ]
  },
  {
   "cell_type": "code",
   "execution_count": 44,
   "metadata": {},
   "outputs": [],
   "source": [
    "# model = APN_Model()\n",
    "# model.to(device)"
   ]
  },
  {
   "cell_type": "markdown",
   "metadata": {},
   "source": [
    "Train and test function"
   ]
  },
  {
   "cell_type": "code",
   "execution_count": 45,
   "metadata": {},
   "outputs": [],
   "source": [
    "def train_fn(model,dataloader, optimizer, criterion):\n",
    "  model.train()\n",
    "  total_loss = 0.0\n",
    "\n",
    "  for A,P,N in tqdm(dataloader):\n",
    "    A,P,N = A.to(device), P.to(device), N.to(device)\n",
    "    A_embs = model(A)\n",
    "    P_embs = model(P)\n",
    "    N_embs = model(N)\n",
    "\n",
    "    loss = criterion(A_embs,P_embs,N_embs)\n",
    "    loss.backward()\n",
    "    optimizer.step()\n",
    "    total_loss += loss.item()\n",
    "\n",
    "  return total_loss / len(dataloader)\n"
   ]
  },
  {
   "cell_type": "code",
   "execution_count": 46,
   "metadata": {},
   "outputs": [],
   "source": [
    "def eval_fn(model,dataloader, criterion):\n",
    "  model.eval()\n",
    "  total_loss = 0.0\n",
    "  \n",
    "  with torch.no_grad():\n",
    "    for A,P,N in tqdm(dataloader):\n",
    "      A,P,N = A.to(device), P.to(device), N.to(device)\n",
    "      A_embs = model(A)\n",
    "      P_embs = model(P)\n",
    "      N_embs = model(N)\n",
    "\n",
    "      loss = criterion(A_embs,P_embs,N_embs)\n",
    "      total_loss += loss.item()\n",
    "\n",
    "    return total_loss / len(dataloader)"
   ]
  },
  {
   "cell_type": "code",
   "execution_count": 47,
   "metadata": {},
   "outputs": [],
   "source": [
    "LR=0.00001\n",
    "EPOCHS=30"
   ]
  },
  {
   "cell_type": "code",
   "execution_count": 48,
   "metadata": {},
   "outputs": [],
   "source": [
    "criterion= nn.TripletMarginLoss()\n",
    "optimizer = torch.optim.Adam(model.parameters(), lr=LR, weight_decay=0.00001)"
   ]
  },
  {
   "cell_type": "markdown",
   "metadata": {},
   "source": [
    "Train the model"
   ]
  },
  {
   "cell_type": "code",
   "execution_count": 49,
   "metadata": {},
   "outputs": [],
   "source": [
    "# best_valid_loss= np.Inf\n",
    "# for i in range(EPOCHS):\n",
    "\n",
    "#   train_loss = train_fn(model, triplet_train_loader, optimizer, criterion)\n",
    "#   valid_loss = eval_fn(model, triplet_test_loader, criterion)\n",
    "\n",
    "#   if valid_loss< best_valid_loss:\n",
    "#     torch.save(model.state_dict(),'best_model.pt')\n",
    "#     best_valid_loss = valid_loss\n",
    "#     print(\"SAVED_WEIGHTS_SUCCESS\")\n",
    "#   print(f\"EPOCHS: {i+1} train_loss: {train_loss} valid_loss:{valid_loss}\")"
   ]
  },
  {
   "cell_type": "code",
   "execution_count": 50,
   "metadata": {},
   "outputs": [
    {
     "name": "stdout",
     "output_type": "stream",
     "text": [
      "Loading dataset...\n"
     ]
    }
   ],
   "source": [
    "train_dataset, test_dataset = init_dataset(DATA_FOLDER,8,n_classes=6)"
   ]
  },
  {
   "cell_type": "code",
   "execution_count": 51,
   "metadata": {},
   "outputs": [],
   "source": [
    "# for video in train_dataset:\n",
    "#     images,anch_lab, neg_lab= video\n",
    "#     for frame in images:\n",
    "#         print(frame.shape)"
   ]
  },
  {
   "cell_type": "code",
   "execution_count": 52,
   "metadata": {},
   "outputs": [],
   "source": [
    "# for video in train_dataset:\n",
    "#     for vid in video:\n",
    "#         frame = frame.to(device)\n",
    "#         emb = model(frame)\n",
    "#         print(emb.shape)\n",
    "#         break"
   ]
  },
  {
   "cell_type": "code",
   "execution_count": 64,
   "metadata": {},
   "outputs": [
    {
     "data": {
      "text/plain": [
       "<matplotlib.image.AxesImage at 0x15abf895348>"
      ]
     },
     "execution_count": 64,
     "metadata": {},
     "output_type": "execute_result"
    },
    {
     "data": {
      "image/png": "[encoded data removed]",
      "text/plain": [
       "<Figure size 432x288 with 1 Axes>"
      ]
     },
     "metadata": {
      "needs_background": "light"
     },
     "output_type": "display_data"
    }
   ],
   "source": [
    "\n",
    "plt.imshow(transforms.ToPILImage()(train_dataset[0][0][7]), interpolation=\"bicubic\")"
   ]
  },
  {
   "cell_type": "code",
   "execution_count": 65,
   "metadata": {},
   "outputs": [
    {
     "name": "stdout",
     "output_type": "stream",
     "text": [
      "torch.Size([8, 3, 224, 224])\n"
     ]
    }
   ],
   "source": [
    "# np.array(train_dataset[10][0]).shape\n",
    "for video in train_dataset:\n",
    "    images,anch_lab, neg_lab= video\n",
    "    print(images.shape)\n",
    "    break\n",
    "    # for frame in images:\n",
    "    #     print(frame.shape)"
   ]
  },
  {
   "cell_type": "code",
   "execution_count": 66,
   "metadata": {},
   "outputs": [],
   "source": [
    "def get_embeddings(model,dataset):\n",
    "  model.eval()\n",
    "  embeddings = []\n",
    "  # targets = []\n",
    "  with torch.no_grad():\n",
    "    for video in dataset:\n",
    "      images,anch_lab, neg_lab= video\n",
    "      # print(np.array(images).shape)\n",
    "      images = images.to(device)\n",
    "      # embeddings.append([model(images),anch_lab])\n",
    "\n",
    "      # break\n",
    "      # for frame in images:\n",
    "      #   targets.append(anch_lab)\n",
    "      #   print(frame.shape)\n",
    "      #   frame = frame.to(device)\n",
    "        \n",
    "      #   emb = model(frame.unsqueeze(0))\n",
    "      #   print(np.array((frame)).shape)\n",
    "      #   break\n",
    "      #   embeddings.append((emb.cpu().numpy(),anch_lab))\n",
    "      # targets = np.full((len(images)),anch_lab)\n",
    "      embeddings.append([model(images),anch_lab])\n",
    "  return embeddings"
   ]
  },
  {
   "cell_type": "code",
   "execution_count": 67,
   "metadata": {},
   "outputs": [],
   "source": [
    "model.load_state_dict(torch.load(\"best_model.pt\"))\n",
    "embeddings = get_embeddings(model,train_dataset)\n",
    "val_embeddings = get_embeddings(model,test_dataset)"
   ]
  },
  {
   "cell_type": "code",
   "execution_count": 68,
   "metadata": {},
   "outputs": [],
   "source": [
    "trainloader = DataLoader(embeddings, batch_size=1, shuffle=False, num_workers=1)\n",
    "valloader = DataLoader(val_embeddings, batch_size=1, shuffle=False, num_workers=1)"
   ]
  },
  {
   "cell_type": "code",
   "execution_count": 69,
   "metadata": {},
   "outputs": [],
   "source": [
    "\n",
    "class LSTM_model(nn.Module):\n",
    "    def __init__(self,input_features=4096,hidden_size=512 ,num_classes=12):\n",
    "        super(LSTM_model, self).__init__()\n",
    "        self.lstm = nn.LSTM(input_features, hidden_size,num_layers=3, batch_first=True)\n",
    "        self.fc = nn.Linear(hidden_size, num_classes)\n",
    "\n",
    "    def forward(self, x):\n",
    "        hidden=None\n",
    "        lstm_out, hidden = self.lstm(x, hidden)\n",
    "        out = self.fc(lstm_out[:, -1, :])\n",
    "        \n",
    "        # out = self.fc(lstm_out[:, -1, :])\n",
    "        return out"
   ]
  },
  {
   "cell_type": "code",
   "execution_count": 70,
   "metadata": {},
   "outputs": [],
   "source": [
    "# seq_len = 3\n",
    "# inp = tor\n",
    "# ch.randn(1, 8, 4096)\n",
    "# out, hidden = lstm_layer(inp, hidden)\n",
    "# print(out.shape)"
   ]
  },
  {
   "cell_type": "code",
   "execution_count": 72,
   "metadata": {},
   "outputs": [
    {
     "data": {
      "text/plain": [
       "LSTM_model(\n",
       "  (lstm): LSTM(4096, 512, num_layers=3, batch_first=True)\n",
       "  (fc): Linear(in_features=512, out_features=6, bias=True)\n",
       ")"
      ]
     },
     "execution_count": 72,
     "metadata": {},
     "output_type": "execute_result"
    }
   ],
   "source": [
    "model2 = LSTM_model(4096,512,6)\n",
    "model2.to(device)"
   ]
  },
  {
   "cell_type": "code",
   "execution_count": 73,
   "metadata": {},
   "outputs": [],
   "source": [
    "criterion = torch.nn.CrossEntropyLoss()\n",
    "optimizer = torch.optim.Adam(model2.parameters(), lr=1e-6, weight_decay=0.00001)"
   ]
  },
  {
   "cell_type": "code",
   "execution_count": 74,
   "metadata": {},
   "outputs": [],
   "source": [
    "start_epoch = 0\n",
    "epochs=30"
   ]
  },
  {
   "cell_type": "code",
   "execution_count": 78,
   "metadata": {},
   "outputs": [],
   "source": [
    "class AverageMeter(object):\n",
    "    \"\"\"Computes and stores the average and current value\"\"\"\n",
    "\n",
    "    def __init__(self):\n",
    "        self.reset()\n",
    "\n",
    "    def reset(self):\n",
    "        self.val = 0\n",
    "        self.avg = 0\n",
    "        self.sum = 0\n",
    "        self.count = 0\n",
    "\n",
    "    def update(self, val, n=1):\n",
    "        self.val = val\n",
    "        self.sum += val * n\n",
    "        self.count += n\n",
    "        self.avg = self.sum / self.count\n",
    "\n",
    "\n",
    "class Logger(object):\n",
    "\n",
    "    def __init__(self, path, header):\n",
    "        self.log_file = open(path, 'w')\n",
    "        self.logger = csv.writer(self.log_file, delimiter='\\t')\n",
    "\n",
    "        self.logger.writerow(header)\n",
    "        self.header = header\n",
    "\n",
    "    def __del(self):\n",
    "        self.log_file.close()\n",
    "\n",
    "    def log(self, values):\n",
    "        write_values = []\n",
    "        for col in self.header:\n",
    "            assert col in values\n",
    "            write_values.append(values[col])\n",
    "\n",
    "        self.logger.writerow(write_values)\n",
    "        self.log_file.flush()\n",
    "\n",
    "\n",
    "def load_value_file(file_path):\n",
    "    with open(file_path, 'r') as input_file:\n",
    "        value = float(input_file.read().rstrip('\\n\\r'))\n",
    "\n",
    "    return value\n",
    "\n",
    "\n",
    "def calculate_accuracy(outputs, targets):\n",
    "    batch_size = targets.size(0)\n",
    "\n",
    "    _, pred = outputs.topk(1, 1, True)\n",
    "    pred = pred.t()\n",
    "    correct = pred.eq(targets.view(1, -1))\n",
    "    n_correct_elems = correct.float().sum().item()\n",
    "\n",
    "    return n_correct_elems / batch_size"
   ]
  },
  {
   "cell_type": "code",
   "execution_count": 79,
   "metadata": {},
   "outputs": [
    {
     "name": "stdout",
     "output_type": "stream",
     "text": [
      "tensor([0], device='cuda:0', dtype=torch.int32)\n"
     ]
    }
   ],
   "source": [
    "for batch_idx, (data, targets) in enumerate(trainloader):\n",
    "    data, targets = data.to(device), targets.to(device)\n",
    "    print(targets)\n",
    "    break"
   ]
  },
  {
   "cell_type": "code",
   "execution_count": 80,
   "metadata": {},
   "outputs": [],
   "source": [
    "def train_epoch(model, data_loader, criterion, optimizer, epoch, log_interval, device):\n",
    "    model.train()\n",
    " \n",
    "    train_loss = 0.0\n",
    "    losses = AverageMeter()\n",
    "    accuracies = AverageMeter()\n",
    "    for batch_idx, (data, targets) in enumerate(data_loader):\n",
    "        targets = targets.type(torch.LongTensor)\n",
    "        data, targets = data.to(device), targets.to(device)\n",
    "        \n",
    "        outputs = model(data)\n",
    "        \n",
    "        loss = criterion(outputs, targets)\n",
    "        acc = calculate_accuracy(outputs, targets)\n",
    "\n",
    "        train_loss += loss.item()\n",
    "        losses.update(loss.item(), data.size(0))\n",
    "        accuracies.update(acc, data.size(0))\n",
    "\n",
    "        optimizer.zero_grad()\n",
    "        loss.backward()\n",
    "        optimizer.step()\n",
    "\n",
    "        if (batch_idx + 1) % log_interval == 0:\n",
    "            avg_loss = train_loss / log_interval\n",
    "            print('Train Epoch: {} [{}/{} ({:.0f}%)]\\tLoss: {:.6f}'.format(\n",
    "                epoch, (batch_idx + 1) * len(data), len(data_loader.dataset), 100. * (batch_idx + 1) / len(data_loader), avg_loss))\n",
    "            train_loss = 0.0\n",
    "\n",
    "    print('Train set ({:d} samples): Average loss: {:.4f}\\tAcc: {:.4f}%'.format(\n",
    "        len(data_loader.dataset), losses.avg, accuracies.avg * 100))\n",
    "\n",
    "    return losses.avg, accuracies.avg  "
   ]
  },
  {
   "cell_type": "code",
   "execution_count": 81,
   "metadata": {},
   "outputs": [],
   "source": [
    "def val_epoch(model, data_loader, criterion, device):\n",
    "    model.eval()\n",
    "\n",
    "    losses = AverageMeter()\n",
    "    accuracies = AverageMeter()\n",
    "    with torch.no_grad():\n",
    "        for (data, targets) in data_loader:\n",
    "            targets = targets.type(torch.LongTensor)\n",
    "            data, targets = data.to(device), targets.to(device)\n",
    "            outputs = model(data)  \n",
    "\n",
    "            loss = criterion(outputs, targets)\n",
    "            acc = calculate_accuracy(outputs, targets)\n",
    "\n",
    "            losses.update(loss.item(), data.size(0))\n",
    "            accuracies.update(acc, data.size(0))\n",
    "\n",
    "    # show info\n",
    "    print('Validation set ({:d} samples): Average loss: {:.4f}\\tAcc: {:.4f}%'.format(len(data_loader.dataset), losses.avg, accuracies.avg * 100))\n",
    "    return losses.avg, accuracies.avg"
   ]
  },
  {
   "cell_type": "code",
   "execution_count": 82,
   "metadata": {},
   "outputs": [],
   "source": [
    "# tensorboard\n",
    "import tensorboardX\n",
    "summary_writer = tensorboardX.SummaryWriter(log_dir='tf_logs')"
   ]
  },
  {
   "cell_type": "code",
   "execution_count": 83,
   "metadata": {},
   "outputs": [
    {
     "name": "stdout",
     "output_type": "stream",
     "text": [
      "Train Epoch: 0 [240/480 (50%)]\tLoss: 1.791761\n",
      "Train Epoch: 0 [480/480 (100%)]\tLoss: 1.791761\n",
      "Train set (480 samples): Average loss: 1.7918\tAcc: 16.6667%\n",
      "Validation set (118 samples): Average loss: 1.7918\tAcc: 16.9492%\n",
      "Epoch 0 model saved!\n",
      "\n",
      "Train Epoch: 1 [240/480 (50%)]\tLoss: 1.791761\n",
      "Train Epoch: 1 [480/480 (100%)]\tLoss: 1.791761\n",
      "Train set (480 samples): Average loss: 1.7918\tAcc: 16.6667%\n",
      "Validation set (118 samples): Average loss: 1.7918\tAcc: 16.9492%\n",
      "Train Epoch: 2 [240/480 (50%)]\tLoss: 1.791761\n",
      "Train Epoch: 2 [480/480 (100%)]\tLoss: 1.791761\n",
      "Train set (480 samples): Average loss: 1.7918\tAcc: 16.6667%\n",
      "Validation set (118 samples): Average loss: 1.7918\tAcc: 16.9492%\n",
      "Train Epoch: 3 [240/480 (50%)]\tLoss: 1.791761\n",
      "Train Epoch: 3 [480/480 (100%)]\tLoss: 1.791761\n",
      "Train set (480 samples): Average loss: 1.7918\tAcc: 16.6667%\n",
      "Validation set (118 samples): Average loss: 1.7918\tAcc: 16.9492%\n",
      "Train Epoch: 4 [240/480 (50%)]\tLoss: 1.791761\n",
      "Train Epoch: 4 [480/480 (100%)]\tLoss: 1.791761\n",
      "Train set (480 samples): Average loss: 1.7918\tAcc: 16.6667%\n",
      "Validation set (118 samples): Average loss: 1.7918\tAcc: 16.9492%\n",
      "Train Epoch: 5 [240/480 (50%)]\tLoss: 1.791761\n",
      "Train Epoch: 5 [480/480 (100%)]\tLoss: 1.791761\n",
      "Train set (480 samples): Average loss: 1.7918\tAcc: 16.6667%\n",
      "Validation set (118 samples): Average loss: 1.7918\tAcc: 16.9492%\n",
      "Epoch 5 model saved!\n",
      "\n",
      "Train Epoch: 6 [240/480 (50%)]\tLoss: 1.791761\n",
      "Train Epoch: 6 [480/480 (100%)]\tLoss: 1.791761\n",
      "Train set (480 samples): Average loss: 1.7918\tAcc: 16.6667%\n",
      "Validation set (118 samples): Average loss: 1.7918\tAcc: 16.9492%\n",
      "Train Epoch: 7 [240/480 (50%)]\tLoss: 1.791761\n",
      "Train Epoch: 7 [480/480 (100%)]\tLoss: 1.791761\n",
      "Train set (480 samples): Average loss: 1.7918\tAcc: 16.6667%\n",
      "Validation set (118 samples): Average loss: 1.7918\tAcc: 16.9492%\n",
      "Train Epoch: 8 [240/480 (50%)]\tLoss: 1.791761\n",
      "Train Epoch: 8 [480/480 (100%)]\tLoss: 1.791761\n",
      "Train set (480 samples): Average loss: 1.7918\tAcc: 16.6667%\n",
      "Validation set (118 samples): Average loss: 1.7918\tAcc: 16.9492%\n",
      "Train Epoch: 9 [240/480 (50%)]\tLoss: 1.791761\n",
      "Train Epoch: 9 [480/480 (100%)]\tLoss: 1.791761\n",
      "Train set (480 samples): Average loss: 1.7918\tAcc: 16.6667%\n",
      "Validation set (118 samples): Average loss: 1.7918\tAcc: 16.9492%\n"
     ]
    }
   ],
   "source": [
    "for epoch in range(start_epoch, epochs):\n",
    "\t\ttrain_loss, train_acc = train_epoch(model2, trainloader, criterion, optimizer, epoch, log_interval=240, device=device)\n",
    "\t\tval_loss, val_acc = val_epoch(model2, valloader, criterion, device)\n",
    "\t\tif (epoch) % 5 == 0:\n",
    "\t\t\t# scheduler.step(val_loss)\n",
    "\t\t\t# write summary\n",
    "\t\t\tsummary_writer.add_scalar(\n",
    "\t\t\t\t'losses/train_loss', train_loss, global_step=epoch)\n",
    "\t\t\tsummary_writer.add_scalar(\n",
    "\t\t\t\t'losses/val_loss', val_loss, global_step=epoch)\n",
    "\t\t\tsummary_writer.add_scalar(\n",
    "\t\t\t\t'acc/train_acc', train_acc * 100, global_step=epoch)\n",
    "\t\t\tsummary_writer.add_scalar(\n",
    "\t\t\t\t'acc/val_acc', val_acc * 100, global_step=epoch)\n",
    "\n",
    "\t\t\tstate = {'epoch': epoch, 'state_dict': model.state_dict(), 'optimizer_state_dict': optimizer.state_dict()}\n",
    "\t\t\t# torch.save(state, os.path.join('snapshots', f'{\"model-lst\"}-Epoch-{epoch}-Loss-{val_loss}.pth'))\n",
    "\t\t\tprint(\"Epoch {} model saved!\\n\".format(epoch))"
   ]
  },
  {
   "cell_type": "markdown",
   "metadata": {},
   "source": [
    "ARTEM"
   ]
  },
  {
   "cell_type": "code",
   "execution_count": null,
   "metadata": {},
   "outputs": [],
   "source": [
    "class LSTM_model(nn.Module):\n",
    "    def __init__(self,model, input_emb_size=4096 ,num_classes=12):\n",
    "        super(LSTM_model, self).__init__()\n",
    "        self.snn= model\n",
    "        self.lstm = nn.LSTM(input_emb_size, emb_size, num_layers=3, batch_first=True)\n",
    "        self.fc = nn.Linear(emb_size, num_classes)\n",
    "\n",
    "    def forward(self, x):\n",
    "        hidden=None\n",
    "        for i in range(x.shape[1]):\n",
    "            with torch.no_grad():\n",
    "                emb = self.snn(x[:,i,:])\n",
    "                emb = emb.unsqueeze(1)\n",
    "            lstm_out, hidden = self.lstm(emb, hidden)\n",
    "        out = self.fc(lstm_out[:, -1, :])\n",
    "        return out"
   ]
  },
  {
   "cell_type": "code",
   "execution_count": null,
   "metadata": {},
   "outputs": [],
   "source": [
    "for epoch in range(100):\n",
    "    print(\"Start epoch #%d\" % (epoch))\n",
    "    running_loss = 0.0\n",
    "    print(\"-- Training --\")\n",
    "    for i, data in enumerate(trainloader, 0):\n",
    "        inputs, label = data\n",
    "        if torch.cuda.is_available():\n",
    "            inputs = inputs.to(device)\n",
    "            label = label.to(device)\n",
    "            \n",
    "            optimizer.zero_grad()\n",
    "        \n",
    "        outputs = model2(inputs)\n",
    "\n",
    "        loss = criterion(outputs, label)\n",
    "        loss.backward()\n",
    "        k = torch.argmax(outputs, dim=1) \n",
    "\n",
    "        optimizer.step()\n",
    "        \n",
    "        running_loss += loss.item()\n",
    "    running_loss = running_loss / len(trainloader)\n",
    "    if abs(running_loss - prev_epoch_loss) < 0.001:\n",
    "        print(\"Early stopping! Epoch: {:d}, Loss: {:.3f}\".format(epoch, running_loss))\n",
    "        break\n",
    "    else:\n",
    "        prev_epoch_loss = running_loss"
   ]
  },
  {
   "cell_type": "code",
   "execution_count": 51,
   "metadata": {},
   "outputs": [
    {
     "data": {
      "text/plain": [
       "(8, 4096)"
      ]
     },
     "execution_count": 51,
     "metadata": {},
     "output_type": "execute_result"
    }
   ],
   "source": [
    "np.array(train_video_emb[479]).reshape(8,-1).shape"
   ]
  },
  {
   "cell_type": "code",
   "execution_count": null,
   "metadata": {},
   "outputs": [],
   "source": []
  },
  {
   "cell_type": "code",
   "execution_count": 90,
   "metadata": {},
   "outputs": [],
   "source": [
    "class LSTM_model(nn.Module):\n",
    "    def __init__(self,model, input_emb_size=4096 ,num_classes=12):\n",
    "        super(LSTM_model, self).__init__()\n",
    "        self.snn= model\n",
    "        self.lstm = nn.LSTM(input_emb_size, emb_size, num_layers=3, batch_first=True)\n",
    "        self.fc = nn.Linear(emb_size, num_classes)\n",
    "\n",
    "    def forward(self, x):\n",
    "        hidden=None\n",
    "        for i in range(x.shape[1]):\n",
    "            with torch.no_grad():\n",
    "                emb = self.snn(x[:,i,:])\n",
    "                emb = emb.unsqueeze(1)\n",
    "            lstm_out, hidden = self.lstm(emb, hidden)\n",
    "        out = self.fc(lstm_out[:, -1, :])\n",
    "        return out\n"
   ]
  },
  {
   "cell_type": "code",
   "execution_count": 91,
   "metadata": {},
   "outputs": [
    {
     "ename": "TypeError",
     "evalue": "__init__() missing 1 required positional argument: 'model'",
     "output_type": "error",
     "traceback": [
      "\u001b[1;31m---------------------------------------------------------------------------\u001b[0m",
      "\u001b[1;31mTypeError\u001b[0m                                 Traceback (most recent call last)",
      "\u001b[1;32m~\\AppData\\Local\\Temp\\ipykernel_7156\\3547405590.py\u001b[0m in \u001b[0;36m<module>\u001b[1;34m\u001b[0m\n\u001b[1;32m----> 1\u001b[1;33m \u001b[0mmodel2\u001b[0m \u001b[1;33m=\u001b[0m \u001b[0mLSTM_model\u001b[0m\u001b[1;33m(\u001b[0m\u001b[1;33m)\u001b[0m\u001b[1;33m\u001b[0m\u001b[1;33m\u001b[0m\u001b[0m\n\u001b[0m\u001b[0;32m      2\u001b[0m \u001b[0mmodel2\u001b[0m\u001b[1;33m.\u001b[0m\u001b[0mto\u001b[0m\u001b[1;33m(\u001b[0m\u001b[0mdevice\u001b[0m\u001b[1;33m)\u001b[0m\u001b[1;33m\u001b[0m\u001b[1;33m\u001b[0m\u001b[0m\n",
      "\u001b[1;31mTypeError\u001b[0m: __init__() missing 1 required positional argument: 'model'"
     ]
    }
   ],
   "source": [
    "model2 = LSTM_model()\n",
    "model2.to(device)"
   ]
  },
  {
   "cell_type": "code",
   "execution_count": null,
   "metadata": {},
   "outputs": [],
   "source": [
    "def train_epoch(model, model2, data_loader, criterion, optimizer, epoch, log_interval, device):\n",
    "    model2.train()\n",
    " \n",
    "    train_loss = 0.0\n",
    "    losses = AverageMeter()\n",
    "    accuracies = AverageMeter()\n",
    "    for batch_idx, (data, targets) in enumerate(data_loader):\n",
    "        data, targets = data.to(device), targets.to(device)\n",
    "        outputs = model(data)\n",
    "\n",
    "        loss = criterion(outputs, targets)\n",
    "        acc = calculate_accuracy(outputs, targets)\n",
    "\n",
    "        train_loss += loss.item()\n",
    "        losses.update(loss.item(), data.size(0))\n",
    "        accuracies.update(acc, data.size(0))\n",
    "\n",
    "        optimizer.zero_grad()\n",
    "        loss.backward()\n",
    "        optimizer.step()\n",
    "\n",
    "        if (batch_idx + 1) % log_interval == 0:\n",
    "            avg_loss = train_loss / log_interval\n",
    "            print('Train Epoch: {} [{}/{} ({:.0f}%)]\\tLoss: {:.6f}'.format(\n",
    "                epoch, (batch_idx + 1) * len(data), len(data_loader.dataset), 100. * (batch_idx + 1) / len(data_loader), avg_loss))\n",
    "            train_loss = 0.0\n",
    "\n",
    "    print('Train set ({:d} samples): Average loss: {:.4f}\\tAcc: {:.4f}%'.format(\n",
    "        len(data_loader.dataset), losses.avg, accuracies.avg * 100))\n",
    "\n",
    "    return losses.avg, accuracies.avg  "
   ]
  },
  {
   "cell_type": "code",
   "execution_count": null,
   "metadata": {},
   "outputs": [],
   "source": [
    "\n"
   ]
  },
  {
   "cell_type": "code",
   "execution_count": null,
   "metadata": {},
   "outputs": [],
   "source": [
    "anchor_images = []\n",
    "for A,P,N in train_dataset:\n",
    "    anchor_images.append(A)"
   ]
  },
  {
   "cell_type": "code",
   "execution_count": null,
   "metadata": {},
   "outputs": [],
   "source": []
  },
  {
   "cell_type": "code",
   "execution_count": null,
   "metadata": {},
   "outputs": [],
   "source": []
  },
  {
   "cell_type": "code",
   "execution_count": null,
   "metadata": {},
   "outputs": [],
   "source": [
    "import pandas as pd\n",
    "def get_encoding_csv(model, anc_imgs, anc_img_names):\n",
    "  anc_img_names_arr = np.array(anc_imgs)\n",
    "  encodings = []\n",
    "  model.eval()\n",
    "  with torch.no_grad():\n",
    "    for A in tqdm(anc_img_names_arr):\n",
    "      # A = io.imread(DATA_DIR + i)\n",
    "      # A = torch.from_numpy(A).permute(2,0,1) / 255.0\n",
    "      A = A.to(device)\n",
    "      A_enc = model(A.unsqueeze(0)) #(c,h,w)-> pytorch wants (bs,c,h,w)\n",
    "      encodings.append(A_enc.squeeze().cpu().detach().numpy())\n",
    "\n",
    "    encodings = np.array(encodings)\n",
    "    encodings = pd.DataFrame(encodings)\n",
    "    # print(encodings)\n",
    "    df_enc = pd.concat([anc_img_names, encodings], axis =1)\n",
    "  return df_enc\n",
    "\n"
   ]
  },
  {
   "cell_type": "code",
   "execution_count": null,
   "metadata": {},
   "outputs": [],
   "source": [
    "model.load_state_dict(torch.load(\"best_model.pt\"))\n",
    "names = pd.DataFrame(train_dataset.files_path, columns = ['Anchor'])\n",
    "df_enc = get_encoding_csv(model, anchor_images, names)"
   ]
  },
  {
   "cell_type": "code",
   "execution_count": null,
   "metadata": {},
   "outputs": [],
   "source": [
    "# df_enc.to_csv(\"database.csv\",index=False)\n",
    "df_enc.head()"
   ]
  },
  {
   "cell_type": "code",
   "execution_count": null,
   "metadata": {},
   "outputs": [],
   "source": [
    "def euclidean_distance(img_enc,anc_enc_arr):\n",
    "  dist = np.sqrt(np.dot(img_enc-anc_enc_arr, (img_enc - anc_enc_arr).T))\n",
    "  return dist\n",
    "from scipy import spatial\n",
    "\n",
    "def cosine_distance(img_enc,enc_arr):\n",
    "  # dist = np.dot(img_enc, enc_arr.T) / (np.linalg.norm(img_enc) * np.linalg.norm(enc_arr))\n",
    "  # dist = cosine_similarity(img_enc,enc_arr)\n",
    "  dist = 1-spatial.distance.cosine(img_enc,enc_arr)\n",
    "\n",
    "  return dist"
   ]
  },
  {
   "cell_type": "code",
   "execution_count": null,
   "metadata": {},
   "outputs": [],
   "source": [
    "idx = 56\n",
    "img = anchor_images[idx]\n",
    "\n",
    "plt.imshow(img.numpy().transpose((1,2,0)), cmap = 'gray')\n",
    "# img = torch.from_numpy(img).permute(2,0,1)/255.0\n",
    "model.eval()\n",
    "with torch.no_grad():\n",
    "  img = img.to(device)\n",
    "  img_enc = model(img.unsqueeze(0))\n",
    "  img_enc = img_enc.detach().cpu().numpy()\n",
    "\n"
   ]
  },
  {
   "cell_type": "code",
   "execution_count": null,
   "metadata": {},
   "outputs": [],
   "source": [
    "anc_enc_arr = df_enc.iloc[:,1:].to_numpy()\n",
    "anc_img_names = df_enc[\"Anchor\"]\n",
    "anc_name = anc_img_names[idx]"
   ]
  },
  {
   "cell_type": "code",
   "execution_count": null,
   "metadata": {},
   "outputs": [],
   "source": [
    "anc_name"
   ]
  },
  {
   "cell_type": "code",
   "execution_count": null,
   "metadata": {},
   "outputs": [],
   "source": [
    "# IDX=59\n",
    "# closest_idx[IDX]\n",
    "# anc_name = anc_img_names[idx]"
   ]
  },
  {
   "cell_type": "code",
   "execution_count": null,
   "metadata": {},
   "outputs": [],
   "source": [
    "# IDX=2\n",
    "# closest_idx[IDX]\n",
    "# anc_name = anc_img_names[idx]\n",
    "# img = anchor_images[closest_idx[IDX]]\n",
    "\n",
    "# plt.imshow(img.numpy().transpose((1,2,0)), cmap = 'gray')\n",
    "# anc_img_names[closest_idx[IDX]]"
   ]
  },
  {
   "cell_type": "code",
   "execution_count": null,
   "metadata": {},
   "outputs": [],
   "source": [
    "distance = []\n",
    "method = \"euclidean\"\n",
    "for i in range(anc_enc_arr.shape[0]):\n",
    "  if method == \"euclidean\":\n",
    "    dist=euclidean_distance(img_enc, anc_enc_arr[i:i+1,:])\n",
    "  elif method == \"cosine\":\n",
    "    dist = cosine_distance(img_enc, anc_enc_arr[i:i+1,:])\n",
    "  \n",
    "  distance = np.append(distance,dist)"
   ]
  },
  {
   "cell_type": "code",
   "execution_count": null,
   "metadata": {},
   "outputs": [],
   "source": [
    "closest_idx = np.argsort(distance)"
   ]
  },
  {
   "cell_type": "code",
   "execution_count": null,
   "metadata": {},
   "outputs": [],
   "source": [
    "# for name in anc_img_names:\n",
    "#     print(name.split(\"\\\\\")[-1])"
   ]
  },
  {
   "cell_type": "code",
   "execution_count": null,
   "metadata": {},
   "outputs": [],
   "source": [
    "import networkx as nx \n",
    "from skimage import io\n",
    "import re\n",
    "import matplotlib.pyplot as plt\n",
    "\n",
    "def plot_closest_imgs(anchor_images, anc_img_names, closest_idxs, distance, no_of_closest = 10):\n",
    "\n",
    "    G=nx.Graph()\n",
    "\n",
    "    # S_name = [img_path.split('\\\\')[-1]]\n",
    "\n",
    "\n",
    "    # for s in range(no_of_closest):\n",
    "    #     S_name.append(anc_img_names.iloc[closest_idxs[s]].split('\\\\')[-1])\n",
    "    \n",
    "    subject = re.split('([0-9]+)',anc_img_names.iloc[closest_idx[0]])[3]\n",
    "    print(subject)\n",
    "    #anchor case\n",
    "    image = anchor_images[closest_idxs[0]].permute(1,2,0)\n",
    "    G.add_node(0,image = image)  \n",
    "    # for i in range(no_of_closest + 1):\n",
    "    #     image = anchor_images[closest_idxs[i]].permute(1,2,0)\n",
    "    #     G.add_node(i,image = image)\n",
    "    \n",
    "    #close images\n",
    "    for j in range(1,no_of_closest + 1):\n",
    "        \n",
    "        image = anchor_images[closest_idxs[j]].permute(1,2,0)\n",
    "        G.add_node(j,image = image)\n",
    "        G.add_edge(0,j,weight=distance[closest_idxs[j-1]])\n",
    "        \n",
    "\n",
    "    pos=nx.kamada_kawai_layout(G)\n",
    "\n",
    "    fig=plt.figure(figsize=(20,20))\n",
    "    ax=plt.subplot(111)\n",
    "    ax.set_aspect('equal')\n",
    "    nx.draw_networkx_edges(G,pos,ax=ax)\n",
    "\n",
    "    plt.xlim(-1.5,1.5)\n",
    "    plt.ylim(-1.5,1.5)\n",
    "\n",
    "    trans=ax.transData.transform\n",
    "    trans2=fig.transFigure.inverted().transform\n",
    "\n",
    "    piesize=0.09 # this is the image size\n",
    "    p2=piesize/2.0\n",
    "    # print(piesize,p2)\n",
    "    for n in G:\n",
    "        xx,yy=trans(pos[n]) # figure coordinates\n",
    "        xa,ya=trans2((xx,yy)) # axes coordinates\n",
    "        a = plt.axes([xa-p2,ya-p2, piesize, piesize])\n",
    "        a.set_aspect('equal')\n",
    "        # print(G.nodes[n]['image'])\n",
    "        a.imshow(G.nodes[n]['image'])\n",
    "        a.set_title(anc_img_names.iloc[closest_idxs[n]].split('\\\\')[-1])\n",
    "        a.axis('off')\n",
    "    ax.axis('off')\n",
    "    plt.show()"
   ]
  },
  {
   "cell_type": "code",
   "execution_count": null,
   "metadata": {},
   "outputs": [],
   "source": []
  },
  {
   "cell_type": "code",
   "execution_count": null,
   "metadata": {},
   "outputs": [],
   "source": [
    "anc_img_names[closest_idx[0]]"
   ]
  },
  {
   "cell_type": "code",
   "execution_count": null,
   "metadata": {},
   "outputs": [],
   "source": [
    "# from utils import plot_closest_imgs\n",
    "plot_closest_imgs(anchor_images, anc_img_names, closest_idx[:], distance, no_of_closest = 12);"
   ]
  },
  {
   "cell_type": "code",
   "execution_count": null,
   "metadata": {},
   "outputs": [],
   "source": [
    "class AverageMeter(object):\n",
    "    \"\"\"Computes and stores the average and current value\"\"\"\n",
    "    def __init__(self):\n",
    "        self.reset()\n",
    "\n",
    "    def reset(self):\n",
    "        self.val = 0\n",
    "        self.avg = 0\n",
    "        self.sum = 0\n",
    "        self.count = 0\n",
    "\n",
    "    def update(self, val, n=1):\n",
    "        self.val = val\n",
    "        self.sum += val * n\n",
    "        self.count += n\n",
    "        self.avg = self.sum / self.count\n",
    "\n",
    "def accuracy(dista, distb):\n",
    "    margin = 0\n",
    "    pred = (dista - distb - margin).cpu().data\n",
    "    return (pred > 0).sum()*1.0/dista.size()[0]"
   ]
  },
  {
   "cell_type": "code",
   "execution_count": null,
   "metadata": {},
   "outputs": [],
   "source": [
    "from visdom import Visdom\n",
    "global plotter # global variable to store visdom line plotter"
   ]
  },
  {
   "cell_type": "code",
   "execution_count": null,
   "metadata": {},
   "outputs": [],
   "source": [
    "def train(train_loader, tnet, criterion, optimizer, epoch):\n",
    "    losses = AverageMeter()\n",
    "    accs = AverageMeter()\n",
    "    emb_norms = AverageMeter()\n",
    "\n",
    "    # switch to train mode\n",
    "    tnet.train()\n",
    "    for batch_idx, (data1, data2, data3) in enumerate(train_loader):\n",
    "       if device==\"cuda\":\n",
    "        data1, data2, data3 = data1.cuda(), data2.cuda(), data3.cuda()\n",
    "        data1, data2, data3 = Variable(data1), Variable(data2), Variable(data3)\n",
    "\n",
    "        # compute output\n",
    "        print(data1.shape)\n",
    "        dista, distb, embedded_x, embedded_y, embedded_z = tnet(data1, data2, data3)\n",
    "        # 1 means, dista should be larger than distb\n",
    "        target = torch.FloatTensor(dista.size()).fill_(1)\n",
    "        if device==\"cuda\":\n",
    "            target = target.cuda()\n",
    "        target = Variable(target)\n",
    "        \n",
    "        loss_triplet = criterion(dista, distb, target)\n",
    "        loss_embedd = embedded_x.norm(2) + embedded_y.norm(2) + embedded_z.norm(2)\n",
    "        loss = loss_triplet + 0.001 * loss_embedd\n",
    "\n",
    "        # measure accuracy and record loss\n",
    "        acc = accuracy(dista, distb)\n",
    "        losses.update(loss_triplet.data[0], data1.size(0))\n",
    "        accs.update(acc, data1.size(0))\n",
    "        emb_norms.update(loss_embedd.data[0]/3, data1.size(0))\n",
    "\n",
    "        # compute gradient and do optimizer step\n",
    "        optimizer.zero_grad()\n",
    "        loss.backward()\n",
    "        optimizer.step()\n",
    "\n",
    "        if batch_idx % args.log_interval == 0:\n",
    "            print('Train Epoch: {} [{}/{}]\\t'\n",
    "                  'Loss: {:.4f} ({:.4f}) \\t'\n",
    "                  'Acc: {:.2f}% ({:.2f}%) \\t'\n",
    "                  'Emb_Norm: {:.2f} ({:.2f})'.format(\n",
    "                epoch, batch_idx * len(data1), len(train_loader.dataset),\n",
    "                losses.val, losses.avg, \n",
    "                100. * accs.val, 100. * accs.avg, emb_norms.val, emb_norms.avg))\n",
    "    # log avg values to somewhere\n",
    "    plotter.plot('acc', 'train', epoch, accs.avg)\n",
    "    plotter.plot('loss', 'train', epoch, losses.avg)\n",
    "    plotter.plot('emb_norms', 'train', epoch, emb_norms.avg)\n",
    "\n",
    "def test(test_loader, tnet, criterion, epoch):\n",
    "    losses = AverageMeter()\n",
    "    accs = AverageMeter()\n",
    "\n",
    "    # switch to evaluation mode\n",
    "    tnet.eval()\n",
    "    for batch_idx, (data1, data2, data3) in enumerate(test_loader):\n",
    "        if device==\"cuda\":\n",
    "            data1, data2, data3 = data1.cuda(), data2.cuda(), data3.cuda()\n",
    "        data1, data2, data3 = Variable(data1), Variable(data2), Variable(data3)\n",
    "\n",
    "        # compute output\n",
    "        dista, distb, _, _, _ = tnet(data1, data2, data3)\n",
    "        target = torch.FloatTensor(dista.size()).fill_(1)\n",
    "        if device==\"cuda\":\n",
    "            target = target.cuda()\n",
    "        target = Variable(target)\n",
    "        test_loss =  criterion(dista, distb, target).data[0]\n",
    "\n",
    "        # measure accuracy and record loss\n",
    "        acc = accuracy(dista, distb)\n",
    "        accs.update(acc, data1.size(0))\n",
    "        losses.update(test_loss, data1.size(0))      \n",
    "\n",
    "    print('\\nTest set: Average loss: {:.4f}, Accuracy: {:.2f}%\\n'.format(\n",
    "        losses.avg, 100. * accs.avg))\n",
    "    plotter.plot('acc', 'test', epoch, accs.avg)\n",
    "    plotter.plot('loss', 'test', epoch, losses.avg)\n",
    "    return accs.avg\n",
    "\n",
    "def save_checkpoint(state, is_best, filename='checkpoint.pth.tar'):\n",
    "    \"\"\"Saves checkpoint to disk\"\"\"\n",
    "    directory = \"runs/%s/\"%(\"saves\")\n",
    "    if not os.path.exists(directory):\n",
    "        os.makedirs(directory)\n",
    "    filename = directory + filename\n",
    "    torch.save(state, filename)\n",
    "    if is_best:\n",
    "        shutil.copyfile(filename, 'runs/%s/'%(\"saves\") + 'model_best.pth.tar')"
   ]
  },
  {
   "cell_type": "code",
   "execution_count": null,
   "metadata": {},
   "outputs": [],
   "source": [
    "    n_epochs = 20\n",
    "    for epoch in range(1, n_epochs + 1):\n",
    "        # train for one epoch\n",
    "        train(triplet_train_loader, tnet, criterion, optimizer, epoch)\n",
    "        # evaluate on validation set\n",
    "        acc = test(triplet_test_loader, tnet, criterion, epoch)\n",
    "\n",
    "        # remember best acc and save checkpoint\n",
    "        is_best = acc > best_acc\n",
    "        best_acc = max(acc, best_acc)\n",
    "        save_checkpoint({\n",
    "            'epoch': epoch + 1,\n",
    "            'state_dict': tnet.state_dict(),\n",
    "            'best_prec1': best_acc,\n",
    "        }, is_best)"
   ]
  },
  {
   "cell_type": "code",
   "execution_count": null,
   "metadata": {},
   "outputs": [],
   "source": [
    "from networks import EmbeddingNet, TripletNet\n",
    "from losses import TripletLoss\n",
    "from torch.optim import lr_scheduler\n",
    "import torch.optim as optim\n",
    "from trainer import fit\n",
    "\n",
    "\n",
    "margin = 1.\n",
    "embedding_net = EmbeddingNet()\n",
    "model = TripletNet(embedding_net)\n",
    "if device:\n",
    "    model.cuda()\n",
    "loss_fn = TripletLoss(margin)\n",
    "lr = 1e-3\n",
    "optimizer = optim.Adam(model.parameters(), lr=lr)\n",
    "scheduler = lr_scheduler.StepLR(optimizer, 8, gamma=0.1, last_epoch=-1)\n",
    "n_epochs = 20\n",
    "log_interval = 100"
   ]
  },
  {
   "cell_type": "code",
   "execution_count": null,
   "metadata": {},
   "outputs": [],
   "source": [
    "fit(triplet_train_loader, triplet_test_loader, model, loss_fn, optimizer, scheduler, n_epochs, device, log_interval)"
   ]
  },
  {
   "cell_type": "code",
   "execution_count": null,
   "metadata": {},
   "outputs": [],
   "source": [
    "triplet = []\n",
    "for video in dataset:\n",
    "    for i,image in enumerate(video):\n",
    "        triplet.append((image[0],image[1],image[2],image[3]))\n",
    "        if i==2:\n",
    "            break\n",
    "        # cv2.imshow(\"image\", image[0].cpu().detach().numpy())\n",
    "    #    triplet.append(image)\n",
    "    #triplet.append((video[0],video[1],video[2]))\n",
    "triplet = np.array(triplet)\n",
    "# triplet.shape"
   ]
  },
  {
   "cell_type": "code",
   "execution_count": null,
   "metadata": {},
   "outputs": [],
   "source": [
    "triplet.shape"
   ]
  },
  {
   "cell_type": "code",
   "execution_count": null,
   "metadata": {},
   "outputs": [],
   "source": [
    "plt.imshow(np.transpose(triplet[11][2].cpu().detach().numpy(), (1, 2, 0)))"
   ]
  },
  {
   "cell_type": "code",
   "execution_count": null,
   "metadata": {},
   "outputs": [],
   "source": [
    "len(triplet)"
   ]
  },
  {
   "cell_type": "code",
   "execution_count": null,
   "metadata": {},
   "outputs": [],
   "source": [
    "embedding_dims = 2\n",
    "batch_size = 32\n",
    "epochs = 50"
   ]
  },
  {
   "cell_type": "code",
   "execution_count": null,
   "metadata": {},
   "outputs": [],
   "source": [
    "def imshow(npimg, text=None):\n",
    "    # npimg = img.numpy()\n",
    "    plt.axis(\"off\")\n",
    "    if text:\n",
    "        plt.text(75, 8, text, style='italic',fontweight='bold',\n",
    "            bbox={'facecolor':'white', 'alpha':0.8, 'pad':10})\n",
    "        \n",
    "    plt.imshow((np.transpose(npimg, (1, 2, 0))))\n",
    "    plt.show() "
   ]
  },
  {
   "cell_type": "code",
   "execution_count": null,
   "metadata": {},
   "outputs": [],
   "source": []
  },
  {
   "cell_type": "code",
   "execution_count": null,
   "metadata": {},
   "outputs": [],
   "source": [
    "# \"\"\"uncomment to reorder the dataset\"\"\"\n",
    "\n",
    "# import re\n",
    "# def sort_human(l,order):\n",
    "    \n",
    "#     # for elem in l:\n",
    "#         # print(re.split('([0-9]+)',elem))\n",
    "#     if order ==\"subject_order\":\n",
    "#         return sorted(l, key=lambda i: (re.split('([0-9]+)',i)[3]))\n",
    "#     else: #emotion order\n",
    "#         convert = lambda text: float(text) if text.isdigit() else text\n",
    "#         alphanum = lambda key: [convert(c) for c in re.split('([0-9]+)', key) ]\n",
    "#         return l.sort(key=alphanum)"
   ]
  },
  {
   "cell_type": "code",
   "execution_count": null,
   "metadata": {},
   "outputs": [],
   "source": [
    "def train_split(dataset,n_subj):\n",
    "    split_idx = n_subj*12\n",
    "    train_dataset = []\n",
    "    val_dataset = []\n",
    "    for i,video in enumerate(dataset):\n",
    "        if i<split_idx:\n",
    "            train_dataset.append(video)\n",
    "        else:\n",
    "            val_dataset.append(video)\n",
    "    return train_dataset,val_dataset"
   ]
  },
  {
   "cell_type": "code",
   "execution_count": null,
   "metadata": {},
   "outputs": [],
   "source": []
  },
  {
   "cell_type": "code",
   "execution_count": null,
   "metadata": {},
   "outputs": [],
   "source": [
    "dataset[0][0].shape"
   ]
  },
  {
   "cell_type": "code",
   "execution_count": null,
   "metadata": {},
   "outputs": [],
   "source": [
    "torch.max(images)"
   ]
  },
  {
   "cell_type": "code",
   "execution_count": null,
   "metadata": {},
   "outputs": [],
   "source": [
    "dataset.get_shape(idx=597)\n",
    "print(\"\\n\",dataset.files_path[:25])"
   ]
  },
  {
   "cell_type": "code",
   "execution_count": null,
   "metadata": {},
   "outputs": [],
   "source": [
    "train_dataset , val_dataset = train_split(dataset,n_subj = 40)"
   ]
  },
  {
   "cell_type": "code",
   "execution_count": null,
   "metadata": {},
   "outputs": [],
   "source": [
    "print('Training samples:', len(train_dataset))\n",
    "print('Validation samples:', len(val_dataset))\n"
   ]
  },
  {
   "cell_type": "code",
   "execution_count": null,
   "metadata": {},
   "outputs": [],
   "source": [
    "from torchsummary import summary"
   ]
  },
  {
   "cell_type": "code",
   "execution_count": null,
   "metadata": {},
   "outputs": [],
   "source": [
    "model = init_model(\"ResNet50\",num_classes=len(set(dataset.get_file_labels())))"
   ]
  },
  {
   "cell_type": "code",
   "execution_count": null,
   "metadata": {},
   "outputs": [],
   "source": [
    "model"
   ]
  },
  {
   "cell_type": "code",
   "execution_count": null,
   "metadata": {},
   "outputs": [],
   "source": [
    "writer = SummaryWriter(log_dir=\"weights/\")\n",
    "optim = torch.optim.Adam(model.parameters(), lr=0.0000001, weight_decay=0.01)\n",
    "criterion = torch.nn.CrossEntropyLoss()"
   ]
  },
  {
   "cell_type": "code",
   "execution_count": null,
   "metadata": {},
   "outputs": [],
   "source": [
    "len(val_dataset)"
   ]
  },
  {
   "cell_type": "code",
   "execution_count": null,
   "metadata": {},
   "outputs": [],
   "source": [
    "emo_list = [\"Fake-Angry\",\"Fake-Contempt\",\"Fake-Disgust\", \"Fake-Happy\", \"Fake-Sad\", \"Fake-Surprise\", \"Real-Angry\", \"Real-Contempt\", \"Real-Disgust\", \"Real-Happy\", \"Real-Sad\", \"Real-Surprise\"]"
   ]
  },
  {
   "cell_type": "code",
   "execution_count": null,
   "metadata": {},
   "outputs": [],
   "source": [
    "train_new=[]\n",
    "val_new=[]\n",
    "\n",
    "for video, label,subj in train_dataset:\n",
    "    for vid in video:\n",
    "        train_new.append([vid,label])\n",
    "\n",
    "for video, label,subj in val_dataset:\n",
    "    for vid in video:\n",
    "        val_new.append([vid,label])"
   ]
  },
  {
   "cell_type": "code",
   "execution_count": null,
   "metadata": {},
   "outputs": [],
   "source": [
    "import time"
   ]
  },
  {
   "cell_type": "code",
   "execution_count": null,
   "metadata": {},
   "outputs": [],
   "source": [
    "def train(model, criterion, train_dataset, val_dataset, batch_size, optimizer, step, max_epochs, model_name, no_val=False):\n",
    "    epoch_time= None\n",
    "    # max_epochs = tqdm(range(max_epochs+1), desc=\"Epochs\")\n",
    "    prev_epoch_loss = 0.0\n",
    "    # emo_list = train_dataset.dataset.get_labels_string()\n",
    "\n",
    "    trainloader = DataLoader(train_dataset, batch_size=batch_size, shuffle=False, num_workers=2)\n",
    "    if not no_val:\n",
    "        valloader = DataLoader(val_dataset, batch_size=batch_size, shuffle=False, num_workers=2)\n",
    "    else:\n",
    "        val_loss = 0\n",
    "    \n",
    "    scheduler = torch.optim.lr_scheduler.StepLR(optimizer, step_size=step, gamma=0.1, verbose=True)\n",
    "\n",
    "    last_epoch = False\n",
    "    stop_count = 0\n",
    "\n",
    "\n",
    "    best_train_loss = [999, -1]\n",
    "    best_val_loss = [999, -1]\n",
    "\n",
    "    for epoch in range(max_epochs):\n",
    "        start_time = time.time()\n",
    "        print(\"Start epoch #%d,\" % (epoch))\n",
    "        remaining_epochs=max_epochs-epoch\n",
    "        if epoch_time is not None:\n",
    "            print(\"ETA: %s\" % (time.strftime(\"%H:%M:%S\", time.gmtime(epoch_time * remaining_epochs))))\n",
    "        running_loss = 0.0\n",
    "        print(\"/n/n/n/n/n/n/n/ -- Training --\")\n",
    "        model.train()\n",
    "        # train_dataset.dataset.set_split(\"train\")\n",
    "        for i, (videos,labels) in enumerate(trainloader, 0):\n",
    "                                                # print(\"my label initial \",label, \"/n/n\",inputs.shape)\n",
    "            inputs = videos\n",
    "            if torch.cuda.is_available():\n",
    "                inputs = inputs.to(device)\n",
    "                                                # inputs = inputs.to(device)\n",
    "                                                # print(\"my label is\",label, \"/n/n\",inputs.size())\n",
    "                                                # label= label.to(device)\n",
    "                label= labels.to(device)\n",
    "                # label = label.to(device)\n",
    "\n",
    "            optimizer.zero_grad()\n",
    "\n",
    "            outputs = model(inputs)\n",
    "            if outputs.shape[-1] == 1:\n",
    "                label = label.unsqueeze(1)\n",
    "\n",
    "            loss = criterion(outputs, label).to(device)\n",
    "            loss.backward()\n",
    "\n",
    "            optimizer.step()\n",
    "\n",
    "            running_loss += loss.item()\n",
    "            if i % 80 == 0:\n",
    "                print(\"Progress: {:d}/{:d}. Loss:{:.3f}\".format(i, len(trainloader), running_loss/(i+1)))\n",
    "\n",
    "\n",
    "        running_loss = running_loss / len(trainloader)\n",
    "\n",
    "        if running_loss < best_train_loss[0]:\n",
    "            best_train_loss[0] = running_loss\n",
    "            best_train_loss[1] = epoch\n",
    "            if no_val:\n",
    "                torch.save(model.state_dict(), \"../weights/\"+model_name+\"_final.pt\")\n",
    "\n",
    "        if abs(running_loss - prev_epoch_loss) < 0.001:\n",
    "            print(\"Early stopping! Epoch: {:d}, Loss: {:.3f}\".format(epoch, running_loss))\n",
    "            stop_count += 1\n",
    "            if stop_count == 3:\n",
    "                last_epoch = True\n",
    "            prev_epoch_loss = running_loss\n",
    "        else:\n",
    "            prev_epoch_loss = running_loss\n",
    "            stop_count = 0\n",
    "\n",
    "        if not no_val:\n",
    "            print(\"Validation\")\n",
    "            model.eval()\n",
    "            # val_dataset.dataset.set_split(\"val\")\n",
    "\n",
    "            with torch.no_grad():\n",
    "                test_loss = 0.0\n",
    "                y_pred= []\n",
    "                y_true = []\n",
    "                for i, (videos,val_labels) in enumerate(valloader):\n",
    "                                                # for inputs,label in zip(videos,val_labels):\n",
    "                        # print(\"my label no_grad \",label, \"/n/n\",inputs.shape)\n",
    "                    inputs = videos\n",
    "                    if torch.cuda.is_available():\n",
    "                        inputs = inputs.to(device)\n",
    "                        label = val_labels.to(device)\n",
    "                                                # inputs = inputs.to(device)\n",
    "                                                # label = label.to(device)\n",
    "\n",
    "                    outputs = model(inputs)\n",
    "                    \n",
    "                    if outputs.shape[-1] > 1:\n",
    "                        o_labels = torch.argmax(outputs, dim=1)\n",
    "                    else:\n",
    "                        label = label.unsqueeze(1)\n",
    "                        o_labels = torch.round(outputs)\n",
    "\n",
    "                    y_pred.append(o_labels.cpu())\n",
    "                    y_true.append(label.cpu())\n",
    "\n",
    "                    loss = criterion(outputs, label)\n",
    "\n",
    "                    test_loss += loss.item()\n",
    "                    if i%10 == 0:\n",
    "                        print(\"Progress: {:d}/{:d}\".format(i, len(valloader)))\n",
    "                    \n",
    "\n",
    "                y_pred = torch.cat(y_pred).numpy()\n",
    "                y_true = torch.cat(y_true).numpy()\n",
    "                val_loss = test_loss / len(valloader)\n",
    "                print(\"Validation loss: {:f}\".format(val_loss))\n",
    "                print(\"Confusion matrix\")\n",
    "                # print(confusion_matrix(labels, pred))\n",
    "                print(confusion_matrix(y_true, y_pred))\n",
    "                print(classification_report(y_true, y_pred, target_names=emo_list,zero_division=1))\n",
    "                # print(classification_report(labels, pred, target_names=emo_list,zero_division=1))\n",
    "\n",
    "                if val_loss < best_val_loss[0]:\n",
    "                    best_val_loss[0] = val_loss\n",
    "                    best_val_loss[1] = epoch\n",
    "                    torch.save(model.state_dict(), \"weights/\"+model_name+\".pt\")\n",
    "\n",
    "        writer.add_scalars(\"losses\", {'train': running_loss, 'val': val_loss}, epoch)\n",
    "        scheduler.step()\n",
    "        if last_epoch:\n",
    "            break\n",
    "        epoch_time = time.time() - start_time\n",
    "    return best_train_loss, best_val_loss\n"
   ]
  },
  {
   "cell_type": "code",
   "execution_count": null,
   "metadata": {},
   "outputs": [],
   "source": [
    "train_loss, val_loss = train(model, criterion, train_new, val_new,\n",
    "                                batch_size= n_frames, optimizer= optim, step =0.005, max_epochs=100,\n",
    "                                model_name=\"ResNet152_pretrained_\"+str(n_frames)+\"_frames\",\n",
    "                                no_val=False)\n",
    "                                \n",
    "# train_loss, val_loss = train(model, criterion, train_dataset, val_dataset,\n",
    "#                                 1, optim, step =0.005, max_epochs=100,\n",
    "#                                 model_name=\"Resnet324\",\n",
    "#                                 no_val=False)"
   ]
  },
  {
   "cell_type": "code",
   "execution_count": null,
   "metadata": {},
   "outputs": [],
   "source": [
    "# import os\n",
    "# os.system(\"rundll32.exe powrprof.dll,SetSuspendState 0,1,0\")"
   ]
  },
  {
   "cell_type": "code",
   "execution_count": null,
   "metadata": {},
   "outputs": [],
   "source": [
    "# Creating some helper functions\n",
    "def imshow(img, text=None):\n",
    "    npimg = img.numpy()\n",
    "    plt.axis(\"off\")\n",
    "    if text:\n",
    "        plt.text(75, 8, text, style='italic',fontweight='bold',\n",
    "            bbox={'facecolor':'white', 'alpha':0.8, 'pad':10})\n",
    "        \n",
    "    plt.imshow((np.transpose(npimg, (1, 2, 0))))\n",
    "    plt.show() "
   ]
  },
  {
   "cell_type": "code",
   "execution_count": null,
   "metadata": {},
   "outputs": [],
   "source": [
    "trainloader = DataLoader(train_dataset, batch_size=2, shuffle=False, num_workers=2)"
   ]
  },
  {
   "cell_type": "code",
   "execution_count": null,
   "metadata": {},
   "outputs": [],
   "source": [
    "example_batch[0][0]"
   ]
  },
  {
   "cell_type": "code",
   "execution_count": null,
   "metadata": {},
   "outputs": [],
   "source": [
    "example_batch = next(iter(trainloader))\n",
    "print(example_batch[1])\n",
    "\n",
    "# Example batch is a list containing 2x8 images, indexes 0 and 1, an also the label\n",
    "# If the label is 1, it means that it is not the same person, label is 0, same person in both images\n",
    "concatenated = torch.cat((example_batch[0][0], example_batch[0][1]),0)\n",
    "\n",
    "imshow(torchvision.utils.make_grid(concatenated))\n",
    "print(example_batch[2].numpy().reshape(-1))"
   ]
  },
  {
   "cell_type": "code",
   "execution_count": null,
   "metadata": {},
   "outputs": [],
   "source": [
    "plt.hist(example_batch[0][1].numpy().ravel(), bins=50, density=True)\n",
    "plt.xlabel(\"pixel values\")\n",
    "plt.ylabel(\"relative frequency\")\n",
    "plt.title(\"distribution of pixels\");"
   ]
  },
  {
   "cell_type": "code",
   "execution_count": null,
   "metadata": {},
   "outputs": [],
   "source": [
    "print(\"Best train loss:\", train_loss)\n",
    "print(\"Best val loss:\", val_loss)\n",
    "writer.add_hparams( {\"lr\":0.0001, \"decay\":0.01, \"batch\":n_frames},\n",
    "                    {\"best_train_loss\": train_loss[0], \"best_val_loss\": val_loss[0]}, run_name=str(\"version1\"))\n",
    "\n",
    "writer.close()"
   ]
  },
  {
   "cell_type": "code",
   "execution_count": null,
   "metadata": {},
   "outputs": [],
   "source": [
    "def train(model, criterion, train_dataset, val_dataset, batch_size, optimizer, step, max_epochs, model_name, no_val=False):\n",
    "    epoch_time= None\n",
    "    # max_epochs = tqdm(range(max_epochs+1), desc=\"Epochs\")\n",
    "    prev_epoch_loss = 0.0\n",
    "    # emo_list = train_dataset.dataset.get_labels_string()\n",
    "\n",
    "    trainloader = DataLoader(train_dataset, batch_size=batch_size, shuffle=False, num_workers=2)\n",
    "    if not no_val:\n",
    "        valloader = DataLoader(val_dataset, batch_size=batch_size, shuffle=False, num_workers=2)\n",
    "    else:\n",
    "        val_loss = 0\n",
    "    \n",
    "    scheduler = torch.optim.lr_scheduler.StepLR(optimizer, step_size=step, gamma=0.1, verbose=True)\n",
    "\n",
    "    last_epoch = False\n",
    "    stop_count = 0\n",
    "\n",
    "    train_accuracy_score=0\n",
    "    val_accuracy_score=0\n",
    "    y_pred_train= []\n",
    "    y_true_train = []\n",
    "    best_train_loss = [999, -1]\n",
    "    best_val_loss = [999, -1]\n",
    "\n",
    "    for epoch in range(max_epochs):\n",
    "        train_accuracy_score=0\n",
    "        val_accuracy_score=0\n",
    "        running_loss = 0.0\n",
    "        start_time = time.time()\n",
    "        print(\"Start epoch #%d,\" % (epoch))\n",
    "        remaining_epochs=max_epochs-epoch\n",
    "        if epoch_time is not None:\n",
    "            print(\"ETA: %s\" % (time.strftime(\"%H:%M:%S\", time.gmtime(epoch_time * remaining_epochs))))\n",
    "        \n",
    "        \n",
    "        print(\"/n/n/n/n/n/n/n/ -- Training --\")\n",
    "        model.train()\n",
    "        # train_dataset.dataset.set_split(\"train\")\n",
    "        for i, (videos,labels) in enumerate(trainloader, 0):\n",
    "                                                # print(\"my label initial \",label, \"/n/n\",inputs.shape)\n",
    "            inputs = videos\n",
    "            if torch.cuda.is_available():\n",
    "                inputs = inputs.to(device)\n",
    "                label= labels.to(device)\n",
    "                # label = label.to(device)\n",
    "\n",
    "\n",
    "            optimizer.zero_grad()\n",
    "\n",
    "            outputs = model(inputs)\n",
    "            if outputs.shape[-1] == 1:\n",
    "                label = label.unsqueeze(1)\n",
    "            \n",
    "            if outputs.shape[-1] > 1:\n",
    "                o_labels = torch.argmax(outputs, dim=1)\n",
    "            else:\n",
    "                label = label.unsqueeze(1)\n",
    "                o_labels = torch.round(outputs)\n",
    "\n",
    "            y_pred_train.append(o_labels.cpu())\n",
    "            y_true_train.append(label.cpu())\n",
    "\n",
    "            loss = criterion(outputs, label).to(device)\n",
    "            loss.backward()\n",
    "\n",
    "            optimizer.step()\n",
    "\n",
    "            running_loss += loss.item()\n",
    "\n",
    "            if i % 80 == 0:\n",
    "                print(\"Progress: {:d}/{:d}. Loss:{:.3f}\".format(i, len(trainloader), running_loss/(i+1)))\n",
    "\n",
    "\n",
    "        pred = torch.cat(y_pred_train).numpy()\n",
    "        true = torch.cat(y_true_train).numpy()\n",
    "        train_accuracy_score= np.count_nonzero(pred == true)/len(pred)\n",
    "        print(\"Accuracy: %.3f\" % (train_accuracy_score))\n",
    "        running_loss = running_loss / len(trainloader)\n",
    "\n",
    "\n",
    "        if running_loss < best_train_loss[0]:\n",
    "            best_train_loss[0] = running_loss\n",
    "            best_train_loss[1] = epoch\n",
    "            if no_val:\n",
    "                torch.save(model.state_dict(), \"../weights/\"+model_name+\"_final.pt\")\n",
    "\n",
    "        if abs(running_loss - prev_epoch_loss) < 0.001:\n",
    "            print(\"Early stopping! Epoch: {:d}, Loss: {:.3f}, Accuracy: {:.3f}\".format(epoch, running_loss, train_accuracy_score))\n",
    "            stop_count += 1\n",
    "            if stop_count == 3:\n",
    "                last_epoch = True\n",
    "            prev_epoch_loss = running_loss\n",
    "        else:\n",
    "            prev_epoch_loss = running_loss\n",
    "            stop_count = 0\n",
    "\n",
    "        if not no_val:\n",
    "            print(\"Validation\")\n",
    "            model.eval()\n",
    "            # val_dataset.dataset.set_split(\"val\")\n",
    "\n",
    "            with torch.no_grad():\n",
    "                test_loss = 0.0\n",
    "                y_pred= []\n",
    "                y_true = []\n",
    "                for i, (videos,val_labels) in enumerate(valloader):\n",
    "                                                # for inputs,label in zip(videos,val_labels):\n",
    "                        # print(\"my label no_grad \",label, \"/n/n\",inputs.shape)\n",
    "                    inputs = videos\n",
    "                    if torch.cuda.is_available():\n",
    "                        inputs = inputs.to(device)\n",
    "                        label = val_labels.to(device)\n",
    "                                                # inputs = inputs.to(device)\n",
    "                                                # label = label.to(device)\n",
    "\n",
    "                    outputs = model(inputs)\n",
    "                    \n",
    "                    if outputs.shape[-1] > 1:\n",
    "                        o_labels = torch.argmax(outputs, dim=1)\n",
    "                    else:\n",
    "                        label = label.unsqueeze(1)\n",
    "                        o_labels = torch.round(outputs)\n",
    "\n",
    "                    y_pred.append(o_labels.cpu())\n",
    "                    y_true.append(label.cpu())\n",
    "\n",
    "                    loss = criterion(outputs, label)\n",
    "\n",
    "                    test_loss += loss.item()\n",
    "                    if i%100 == 0:\n",
    "                        print(\"Progress: {:d}/{:d}\".format(i, len(valloader)))\n",
    "                    \n",
    "\n",
    "                pred = torch.cat(y_pred).numpy()\n",
    "                true = torch.cat(y_true).numpy()\n",
    "                val_loss = test_loss / len(valloader)\n",
    "                val_accuracy_score = np.count_nonzero(pred == true)/len(pred)\n",
    "                print(\"Validation Accuracy: %.3f\" % (val_accuracy_score))\n",
    "                print(\"Validation loss: {:f}\".format(val_loss))\n",
    "                print(\"Confusion matrix\")\n",
    "                # print(confusion_matrix(labels, pred))\n",
    "                print(confusion_matrix(y_true, y_pred))\n",
    "                print(classification_report(y_true, y_pred, target_names=emo_list,zero_division=1))\n",
    "                # print(classification_report(labels, pred, target_names=emo_list,zero_division=1))\n",
    "                if val_loss < best_val_loss[0]:\n",
    "                    best_val_loss[0] = val_loss\n",
    "                    best_val_loss[1] = epoch\n",
    "                    torch.save(model.state_dict(), \"weights/\"+model_name+\".pt\")\n",
    "\n",
    "        writer.add_scalars(\"losses\", {'train': running_loss, 'val': val_loss}, epoch)\n",
    "        # writer.add_scalar(\"train_accuracy\", {'train': train_accuracy_score, 'val': val_accuracy_score}, epoch)\n",
    "        scheduler.step()\n",
    "        if last_epoch:\n",
    "            break\n",
    "        epoch_time = time.time() - start_time\n",
    "    return best_train_loss, best_val_loss\n"
   ]
  }
 ],
 "metadata": {
  "kernelspec": {
   "display_name": "Python 3.7.11 ('ml')",
   "language": "python",
   "name": "python3"
  },
  "language_info": {
   "codemirror_mode": {
    "name": "ipython",
    "version": 3
   },
   "file_extension": ".py",
   "mimetype": "text/x-python",
   "name": "python",
   "nbconvert_exporter": "python",
   "pygments_lexer": "ipython3",
   "version": "3.7.11"
  },
  "orig_nbformat": 4,
  "vscode": {
   "interpreter": {
    "hash": "9bdb3465f43f7d16caa905e3d914a6bad88d39cba4b7b03ec8828b71d149d992"
   }
  }
 },
 "nbformat": 4,
 "nbformat_minor": 2
}
